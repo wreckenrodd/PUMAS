{
 "cells": [
  {
   "cell_type": "code",
   "execution_count": 1,
   "metadata": {
    "collapsed": true
   },
   "outputs": [],
   "source": [
    "from pybedtools import BedTool\n",
    "import pandas as pd\n",
    "import numpy as np\n",
    "import scipy.stats as stats\n",
    "from scipy.stats import chi2_contingency\n",
    "import seaborn as sns\n",
    "%matplotlib inline"
   ]
  },
  {
   "cell_type": "code",
   "execution_count": 11,
   "metadata": {},
   "outputs": [],
   "source": [
    "TADs = pd.read_csv(\"dataSets/TAD_HAR_intersect_count.bed\",sep=\"\\t\")\n",
    "variants = pd.read_csv(\"dataSets/fixed_indels.bed\",sep=\"\\t\",names=[\"chrom\",\"start\",\"stop\",\"status\"])"
   ]
  },
  {
   "cell_type": "code",
   "execution_count": 12,
   "metadata": {},
   "outputs": [
    {
     "data": {
      "text/html": [
       "<div>\n",
       "<style scoped>\n",
       "    .dataframe tbody tr th:only-of-type {\n",
       "        vertical-align: middle;\n",
       "    }\n",
       "\n",
       "    .dataframe tbody tr th {\n",
       "        vertical-align: top;\n",
       "    }\n",
       "\n",
       "    .dataframe thead th {\n",
       "        text-align: right;\n",
       "    }\n",
       "</style>\n",
       "<table border=\"1\" class=\"dataframe\">\n",
       "  <thead>\n",
       "    <tr style=\"text-align: right;\">\n",
       "      <th></th>\n",
       "      <th>chrom</th>\n",
       "      <th>start</th>\n",
       "      <th>stop</th>\n",
       "      <th>count</th>\n",
       "    </tr>\n",
       "  </thead>\n",
       "  <tbody>\n",
       "    <tr>\n",
       "      <th>0</th>\n",
       "      <td>chr1</td>\n",
       "      <td>68519317</td>\n",
       "      <td>69794317</td>\n",
       "      <td>1</td>\n",
       "    </tr>\n",
       "    <tr>\n",
       "      <th>1</th>\n",
       "      <td>chr1</td>\n",
       "      <td>48899328</td>\n",
       "      <td>50344328</td>\n",
       "      <td>1</td>\n",
       "    </tr>\n",
       "    <tr>\n",
       "      <th>2</th>\n",
       "      <td>chr1</td>\n",
       "      <td>163390210</td>\n",
       "      <td>164925763</td>\n",
       "      <td>3</td>\n",
       "    </tr>\n",
       "    <tr>\n",
       "      <th>3</th>\n",
       "      <td>chr1</td>\n",
       "      <td>247636698</td>\n",
       "      <td>248231698</td>\n",
       "      <td>0</td>\n",
       "    </tr>\n",
       "    <tr>\n",
       "      <th>4</th>\n",
       "      <td>chr1</td>\n",
       "      <td>196105870</td>\n",
       "      <td>196690870</td>\n",
       "      <td>0</td>\n",
       "    </tr>\n",
       "  </tbody>\n",
       "</table>\n",
       "</div>"
      ],
      "text/plain": [
       "  chrom      start       stop  count\n",
       "0  chr1   68519317   69794317      1\n",
       "1  chr1   48899328   50344328      1\n",
       "2  chr1  163390210  164925763      3\n",
       "3  chr1  247636698  248231698      0\n",
       "4  chr1  196105870  196690870      0"
      ]
     },
     "execution_count": 12,
     "metadata": {},
     "output_type": "execute_result"
    }
   ],
   "source": [
    "TADs.head()"
   ]
  },
  {
   "cell_type": "code",
   "execution_count": 13,
   "metadata": {},
   "outputs": [
    {
     "name": "stdout",
     "output_type": "stream",
     "text": [
      "TADs_w_HARs count: 1252\n",
      "---------\n",
      "TADs_wOUT_HARs count: 7997\n",
      "---------\n",
      "check: 9249\n",
      "---------\n",
      "check: 9249\n",
      "---------\n",
      "Percentage of TADs w/ HARs: 13.536598551194723%\n",
      "Percentage of TADs w/out HARs: 86.46340144880527%\n"
     ]
    }
   ],
   "source": [
    "TADbed = BedTool.from_dataframe(TADs)\n",
    "variantsBED = BedTool.from_dataframe(variants)\n",
    "TADs_w_HARs = TADs.query(\"count != '0'\").copy()\n",
    "TADs_wOUT_HARs = TADs.query(\"count == '0'\").copy()\n",
    "cases = variants.query(\"status == 'case'\")\n",
    "controls = variants.query(\"status == 'control'\")\n",
    "print('TADs_w_HARs count: '+str(len(TADs_w_HARs)))\n",
    "print(\"---------\")\n",
    "print(\"TADs_wOUT_HARs count: \"+str(len(TADs_wOUT_HARs)))\n",
    "print(\"---------\")\n",
    "print('check: '+str(len(TADs_w_HARs)+len(TADs_wOUT_HARs)))\n",
    "print(\"---------\")\n",
    "print('check: '+str(len(TADs)))\n",
    "print(\"---------\")\n",
    "print('Percentage of TADs w/ HARs: ' + str((len(TADs_w_HARs)/len(TADs))*100) + '%')\n",
    "print('Percentage of TADs w/out HARs: ' + str((len(TADs_wOUT_HARs)/len(TADs))*100) + '%')"
   ]
  },
  {
   "cell_type": "code",
   "execution_count": 14,
   "metadata": {
    "collapsed": true
   },
   "outputs": [],
   "source": [
    "w_HAR = BedTool.from_dataframe(TADs_w_HARs)\n",
    "wOUT_HAR = BedTool.from_dataframe(TADs_wOUT_HARs)\n",
    "case = BedTool.from_dataframe(cases)\n",
    "control = BedTool.from_dataframe(controls)"
   ]
  },
  {
   "cell_type": "code",
   "execution_count": 6,
   "metadata": {},
   "outputs": [
    {
     "name": "stdout",
     "output_type": "stream",
     "text": [
      "1252\n",
      "7997\n",
      "9249\n"
     ]
    },
    {
     "data": {
      "text/plain": [
       "8243"
      ]
     },
     "execution_count": 6,
     "metadata": {},
     "output_type": "execute_result"
    }
   ],
   "source": [
    "print(len(w_HAR))\n",
    "print(len(wOUT_HAR))\n",
    "print(len(TADbed))\n",
    "4084+4159"
   ]
  },
  {
   "cell_type": "code",
   "execution_count": 7,
   "metadata": {},
   "outputs": [
    {
     "name": "stdout",
     "output_type": "stream",
     "text": [
      "4972\n"
     ]
    }
   ],
   "source": [
    "x = TADbed.intersect(case,u=True)\n",
    "print(len(x))"
   ]
  },
  {
   "cell_type": "code",
   "execution_count": 8,
   "metadata": {
    "collapsed": true
   },
   "outputs": [],
   "source": [
    "case_w_HARs = w_HAR.intersect(case,u=True)\n",
    "case_wOUT_HARs = wOUT_HAR.intersect(case,u=True)\n",
    "control_w_HARs = w_HAR.intersect(control,u=True)\n",
    "control_wOUT_HARs = wOUT_HAR.intersect(control,u=True)"
   ]
  },
  {
   "cell_type": "code",
   "execution_count": 9,
   "metadata": {
    "scrolled": true
   },
   "outputs": [
    {
     "name": "stdout",
     "output_type": "stream",
     "text": [
      "case_w_HARs: 888\n",
      "case_wOUT_HARs: 4084\n",
      "control_w_HARs: 849\n",
      "control_wOUT_HARs: 4159\n"
     ]
    }
   ],
   "source": [
    "print('case_w_HARs: '+str(len(case_w_HARs)))\n",
    "print('case_wOUT_HARs: '+str(len(case_wOUT_HARs)))\n",
    "print('control_w_HARs: '+str(len(control_w_HARs)))\n",
    "print('control_wOUT_HARs: '+str(len(control_wOUT_HARs)))"
   ]
  },
  {
   "cell_type": "code",
   "execution_count": 10,
   "metadata": {},
   "outputs": [
    {
     "data": {
      "text/plain": [
       "0.17860016090104586"
      ]
     },
     "execution_count": 10,
     "metadata": {},
     "output_type": "execute_result"
    }
   ],
   "source": [
    "888/4972"
   ]
  },
  {
   "cell_type": "code",
   "execution_count": 11,
   "metadata": {
    "scrolled": false
   },
   "outputs": [
    {
     "name": "stdout",
     "output_type": "stream",
     "text": [
      "0.24253521819762075\n"
     ]
    }
   ],
   "source": [
    "obs = np.array([[888,849],[4084,4159]])\n",
    "chi2, p, dof, expected = chi2_contingency(obs)\n",
    "print(p)"
   ]
  },
  {
   "cell_type": "code",
   "execution_count": 12,
   "metadata": {},
   "outputs": [
    {
     "data": {
      "text/plain": [
       "0.2348914143690377"
      ]
     },
     "execution_count": 12,
     "metadata": {},
     "output_type": "execute_result"
    }
   ],
   "source": [
    "oddsratio,pvalue = stats.fisher_exact(obs)\n",
    "oddsratio\n",
    "pvalue"
   ]
  },
  {
   "cell_type": "code",
   "execution_count": 13,
   "metadata": {
    "collapsed": true
   },
   "outputs": [],
   "source": [
    "ww = TADbed.intersect(case,u=True)\n",
    "yy = TADbed.intersect(control,u=True)\n",
    "zz = TADbed.intersect(variantsBED,u=True)"
   ]
  },
  {
   "cell_type": "code",
   "execution_count": 14,
   "metadata": {},
   "outputs": [
    {
     "name": "stdout",
     "output_type": "stream",
     "text": [
      "chr1\t5279606\t5279607\tcase\tchr1\t5279606\t5279607\tcontrol\n",
      " chr1\t39127213\t39127214\tcase\tchr1\t39127213\t39127214\tcontrol\n",
      " chr1\t42565197\t42565198\tcase\tchr1\t42565197\t42565198\tcontrol\n",
      " chr1\t153190867\t153190868\tcase\tchr1\t153190867\t153190868\tcontrol\n",
      " chr1\t179297337\t179297338\tcase\tchr1\t179297337\t179297338\tcontrol\n",
      " chr1\t186926932\t186926933\tcase\tchr1\t186926932\t186926933\tcontrol\n",
      " chr1\t188000216\t188000217\tcase\tchr1\t188000216\t188000217\tcontrol\n",
      " chr1\t194206483\t194206484\tcase\tchr1\t194206483\t194206484\tcontrol\n",
      " chr1\t209836369\t209836370\tcase\tchr1\t209836369\t209836370\tcontrol\n",
      " chr1\t238521418\t238521419\tcase\tchr1\t238521418\t238521419\tcontrol\n",
      " None\n"
     ]
    }
   ],
   "source": [
    "xx = case.intersect(control,wa=True,wb=True)\n",
    "print(xx.head())"
   ]
  },
  {
   "cell_type": "markdown",
   "metadata": {},
   "source": [
    "the problem with calculating all intersections with TADs.intersect(variants,u=True) is that the u=True version will only count one interesection per TAD. about 3000 TADs have both a case and a control indel"
   ]
  },
  {
   "cell_type": "code",
   "execution_count": 15,
   "metadata": {},
   "outputs": [
    {
     "name": "stdout",
     "output_type": "stream",
     "text": [
      "3167\n"
     ]
    }
   ],
   "source": [
    "print((len(ww)+len(yy))-len(zz))"
   ]
  },
  {
   "cell_type": "markdown",
   "metadata": {},
   "source": [
    "## Kathleen's method for violinplot - start"
   ]
  },
  {
   "cell_type": "code",
   "execution_count": 31,
   "metadata": {},
   "outputs": [],
   "source": [
    "variants_per_TAD_cases = TADbed.sort().intersect(case.sort(), c=True).to_dataframe()\n",
    "variants_per_TAD_controls = TADbed.sort().intersect(control.sort(), c=True).to_dataframe()"
   ]
  },
  {
   "cell_type": "code",
   "execution_count": 33,
   "metadata": {},
   "outputs": [],
   "source": [
    "variants_per_TAD_cases.columns = ['chrom','start','stop','HAR_count','variant_count']\n",
    "variants_per_TAD_cases['category'] = 'case_variants'\n",
    "variants_per_TAD_controls.columns = ['chrom','start','stop','HAR_count','variant_count']\n",
    "variants_per_TAD_controls['category'] = 'control_variants'"
   ]
  },
  {
   "cell_type": "code",
   "execution_count": 58,
   "metadata": {},
   "outputs": [
    {
     "data": {
      "text/html": [
       "<div>\n",
       "<style scoped>\n",
       "    .dataframe tbody tr th:only-of-type {\n",
       "        vertical-align: middle;\n",
       "    }\n",
       "\n",
       "    .dataframe tbody tr th {\n",
       "        vertical-align: top;\n",
       "    }\n",
       "\n",
       "    .dataframe thead th {\n",
       "        text-align: right;\n",
       "    }\n",
       "</style>\n",
       "<table border=\"1\" class=\"dataframe\">\n",
       "  <thead>\n",
       "    <tr style=\"text-align: right;\">\n",
       "      <th></th>\n",
       "      <th>chrom</th>\n",
       "      <th>start</th>\n",
       "      <th>stop</th>\n",
       "      <th>HAR_count</th>\n",
       "      <th>variant_count</th>\n",
       "      <th>category</th>\n",
       "    </tr>\n",
       "  </thead>\n",
       "  <tbody>\n",
       "    <tr>\n",
       "      <th>0</th>\n",
       "      <td>chr1</td>\n",
       "      <td>979620</td>\n",
       "      <td>1069620</td>\n",
       "      <td>0</td>\n",
       "      <td>1</td>\n",
       "      <td>case_variants</td>\n",
       "    </tr>\n",
       "    <tr>\n",
       "      <th>1</th>\n",
       "      <td>chr1</td>\n",
       "      <td>1094620</td>\n",
       "      <td>1299620</td>\n",
       "      <td>0</td>\n",
       "      <td>2</td>\n",
       "      <td>case_variants</td>\n",
       "    </tr>\n",
       "    <tr>\n",
       "      <th>2</th>\n",
       "      <td>chr1</td>\n",
       "      <td>1319620</td>\n",
       "      <td>1514620</td>\n",
       "      <td>0</td>\n",
       "      <td>3</td>\n",
       "      <td>case_variants</td>\n",
       "    </tr>\n",
       "    <tr>\n",
       "      <th>3</th>\n",
       "      <td>chr1</td>\n",
       "      <td>1778561</td>\n",
       "      <td>1908561</td>\n",
       "      <td>0</td>\n",
       "      <td>2</td>\n",
       "      <td>case_variants</td>\n",
       "    </tr>\n",
       "    <tr>\n",
       "      <th>4</th>\n",
       "      <td>chr1</td>\n",
       "      <td>1928561</td>\n",
       "      <td>2123561</td>\n",
       "      <td>0</td>\n",
       "      <td>2</td>\n",
       "      <td>case_variants</td>\n",
       "    </tr>\n",
       "  </tbody>\n",
       "</table>\n",
       "</div>"
      ],
      "text/plain": [
       "  chrom    start     stop  HAR_count  variant_count       category\n",
       "0  chr1   979620  1069620          0              1  case_variants\n",
       "1  chr1  1094620  1299620          0              2  case_variants\n",
       "2  chr1  1319620  1514620          0              3  case_variants\n",
       "3  chr1  1778561  1908561          0              2  case_variants\n",
       "4  chr1  1928561  2123561          0              2  case_variants"
      ]
     },
     "execution_count": 58,
     "metadata": {},
     "output_type": "execute_result"
    }
   ],
   "source": [
    "variants_per_TAD_cases.head()"
   ]
  },
  {
   "cell_type": "code",
   "execution_count": 59,
   "metadata": {},
   "outputs": [
    {
     "data": {
      "text/html": [
       "<div>\n",
       "<style scoped>\n",
       "    .dataframe tbody tr th:only-of-type {\n",
       "        vertical-align: middle;\n",
       "    }\n",
       "\n",
       "    .dataframe tbody tr th {\n",
       "        vertical-align: top;\n",
       "    }\n",
       "\n",
       "    .dataframe thead th {\n",
       "        text-align: right;\n",
       "    }\n",
       "</style>\n",
       "<table border=\"1\" class=\"dataframe\">\n",
       "  <thead>\n",
       "    <tr style=\"text-align: right;\">\n",
       "      <th></th>\n",
       "      <th>chrom</th>\n",
       "      <th>start</th>\n",
       "      <th>stop</th>\n",
       "      <th>HAR_count</th>\n",
       "      <th>variant_count</th>\n",
       "      <th>category</th>\n",
       "    </tr>\n",
       "  </thead>\n",
       "  <tbody>\n",
       "    <tr>\n",
       "      <th>0</th>\n",
       "      <td>chr1</td>\n",
       "      <td>979620</td>\n",
       "      <td>1069620</td>\n",
       "      <td>0</td>\n",
       "      <td>2</td>\n",
       "      <td>control_variants</td>\n",
       "    </tr>\n",
       "    <tr>\n",
       "      <th>1</th>\n",
       "      <td>chr1</td>\n",
       "      <td>1094620</td>\n",
       "      <td>1299620</td>\n",
       "      <td>0</td>\n",
       "      <td>0</td>\n",
       "      <td>control_variants</td>\n",
       "    </tr>\n",
       "    <tr>\n",
       "      <th>2</th>\n",
       "      <td>chr1</td>\n",
       "      <td>1319620</td>\n",
       "      <td>1514620</td>\n",
       "      <td>0</td>\n",
       "      <td>1</td>\n",
       "      <td>control_variants</td>\n",
       "    </tr>\n",
       "    <tr>\n",
       "      <th>3</th>\n",
       "      <td>chr1</td>\n",
       "      <td>1778561</td>\n",
       "      <td>1908561</td>\n",
       "      <td>0</td>\n",
       "      <td>1</td>\n",
       "      <td>control_variants</td>\n",
       "    </tr>\n",
       "    <tr>\n",
       "      <th>4</th>\n",
       "      <td>chr1</td>\n",
       "      <td>1928561</td>\n",
       "      <td>2123561</td>\n",
       "      <td>0</td>\n",
       "      <td>0</td>\n",
       "      <td>control_variants</td>\n",
       "    </tr>\n",
       "  </tbody>\n",
       "</table>\n",
       "</div>"
      ],
      "text/plain": [
       "  chrom    start     stop  HAR_count  variant_count          category\n",
       "0  chr1   979620  1069620          0              2  control_variants\n",
       "1  chr1  1094620  1299620          0              0  control_variants\n",
       "2  chr1  1319620  1514620          0              1  control_variants\n",
       "3  chr1  1778561  1908561          0              1  control_variants\n",
       "4  chr1  1928561  2123561          0              0  control_variants"
      ]
     },
     "execution_count": 59,
     "metadata": {},
     "output_type": "execute_result"
    }
   ],
   "source": [
    "variants_per_TAD_controls.head()"
   ]
  },
  {
   "cell_type": "code",
   "execution_count": 36,
   "metadata": {
    "collapsed": true
   },
   "outputs": [],
   "source": [
    "variants_per_TAD = pd.concat([variants_per_TAD_cases, variants_per_TAD_controls])"
   ]
  },
  {
   "cell_type": "code",
   "execution_count": 39,
   "metadata": {},
   "outputs": [
    {
     "data": {
      "text/plain": [
       "<matplotlib.axes._subplots.AxesSubplot at 0x10c9283c8>"
      ]
     },
     "execution_count": 39,
     "metadata": {},
     "output_type": "execute_result"
    },
    {
     "data": {
      "image/png": "[encoded data removed]",
      "text/plain": [
       "<Figure size 432x288 with 1 Axes>"
      ]
     },
     "metadata": {},
     "output_type": "display_data"
    }
   ],
   "source": [
    "sns.violinplot(x='category', y='variant_count', data=variants_per_TAD)"
   ]
  },
  {
   "cell_type": "code",
   "execution_count": 62,
   "metadata": {},
   "outputs": [
    {
     "data": {
      "text/plain": [
       "<matplotlib.axes._subplots.AxesSubplot at 0x10e42e390>"
      ]
     },
     "execution_count": 62,
     "metadata": {},
     "output_type": "execute_result"
    },
    {
     "data": {
      "image/png": "[encoded data removed]",
      "text/plain": [
       "<Figure size 432x288 with 1 Axes>"
      ]
     },
     "metadata": {},
     "output_type": "display_data"
    }
   ],
   "source": [
    "sns.violinplot(x='category', y='variant_count', data=variants_per_TAD.query('HAR_count != \"0\"'))"
   ]
  },
  {
   "cell_type": "code",
   "execution_count": 63,
   "metadata": {},
   "outputs": [
    {
     "data": {
      "text/html": [
       "<div>\n",
       "<style scoped>\n",
       "    .dataframe tbody tr th:only-of-type {\n",
       "        vertical-align: middle;\n",
       "    }\n",
       "\n",
       "    .dataframe tbody tr th {\n",
       "        vertical-align: top;\n",
       "    }\n",
       "\n",
       "    .dataframe thead th {\n",
       "        text-align: right;\n",
       "    }\n",
       "</style>\n",
       "<table border=\"1\" class=\"dataframe\">\n",
       "  <thead>\n",
       "    <tr style=\"text-align: right;\">\n",
       "      <th></th>\n",
       "      <th>start</th>\n",
       "      <th>stop</th>\n",
       "      <th>HAR_count</th>\n",
       "      <th>variant_count</th>\n",
       "    </tr>\n",
       "  </thead>\n",
       "  <tbody>\n",
       "    <tr>\n",
       "      <th>count</th>\n",
       "      <td>1.252000e+03</td>\n",
       "      <td>1.252000e+03</td>\n",
       "      <td>1252.000000</td>\n",
       "      <td>1252.000000</td>\n",
       "    </tr>\n",
       "    <tr>\n",
       "      <th>mean</th>\n",
       "      <td>8.034659e+07</td>\n",
       "      <td>8.079958e+07</td>\n",
       "      <td>1.462460</td>\n",
       "      <td>1.743610</td>\n",
       "    </tr>\n",
       "    <tr>\n",
       "      <th>std</th>\n",
       "      <td>5.690871e+07</td>\n",
       "      <td>5.690395e+07</td>\n",
       "      <td>1.027688</td>\n",
       "      <td>1.881523</td>\n",
       "    </tr>\n",
       "    <tr>\n",
       "      <th>min</th>\n",
       "      <td>3.098850e+05</td>\n",
       "      <td>4.548850e+05</td>\n",
       "      <td>1.000000</td>\n",
       "      <td>0.000000</td>\n",
       "    </tr>\n",
       "    <tr>\n",
       "      <th>25%</th>\n",
       "      <td>3.389664e+07</td>\n",
       "      <td>3.423829e+07</td>\n",
       "      <td>1.000000</td>\n",
       "      <td>0.000000</td>\n",
       "    </tr>\n",
       "    <tr>\n",
       "      <th>50%</th>\n",
       "      <td>6.869616e+07</td>\n",
       "      <td>6.922793e+07</td>\n",
       "      <td>1.000000</td>\n",
       "      <td>1.000000</td>\n",
       "    </tr>\n",
       "    <tr>\n",
       "      <th>75%</th>\n",
       "      <td>1.186943e+08</td>\n",
       "      <td>1.190188e+08</td>\n",
       "      <td>2.000000</td>\n",
       "      <td>3.000000</td>\n",
       "    </tr>\n",
       "    <tr>\n",
       "      <th>max</th>\n",
       "      <td>2.469667e+08</td>\n",
       "      <td>2.474967e+08</td>\n",
       "      <td>9.000000</td>\n",
       "      <td>12.000000</td>\n",
       "    </tr>\n",
       "  </tbody>\n",
       "</table>\n",
       "</div>"
      ],
      "text/plain": [
       "              start          stop    HAR_count  variant_count\n",
       "count  1.252000e+03  1.252000e+03  1252.000000    1252.000000\n",
       "mean   8.034659e+07  8.079958e+07     1.462460       1.743610\n",
       "std    5.690871e+07  5.690395e+07     1.027688       1.881523\n",
       "min    3.098850e+05  4.548850e+05     1.000000       0.000000\n",
       "25%    3.389664e+07  3.423829e+07     1.000000       0.000000\n",
       "50%    6.869616e+07  6.922793e+07     1.000000       1.000000\n",
       "75%    1.186943e+08  1.190188e+08     2.000000       3.000000\n",
       "max    2.469667e+08  2.474967e+08     9.000000      12.000000"
      ]
     },
     "execution_count": 63,
     "metadata": {},
     "output_type": "execute_result"
    }
   ],
   "source": [
    "variants_per_TAD_cases.query('HAR_count != \"0\"').describe()"
   ]
  },
  {
   "cell_type": "code",
   "execution_count": 64,
   "metadata": {},
   "outputs": [
    {
     "data": {
      "text/html": [
       "<div>\n",
       "<style scoped>\n",
       "    .dataframe tbody tr th:only-of-type {\n",
       "        vertical-align: middle;\n",
       "    }\n",
       "\n",
       "    .dataframe tbody tr th {\n",
       "        vertical-align: top;\n",
       "    }\n",
       "\n",
       "    .dataframe thead th {\n",
       "        text-align: right;\n",
       "    }\n",
       "</style>\n",
       "<table border=\"1\" class=\"dataframe\">\n",
       "  <thead>\n",
       "    <tr style=\"text-align: right;\">\n",
       "      <th></th>\n",
       "      <th>start</th>\n",
       "      <th>stop</th>\n",
       "      <th>HAR_count</th>\n",
       "      <th>variant_count</th>\n",
       "    </tr>\n",
       "  </thead>\n",
       "  <tbody>\n",
       "    <tr>\n",
       "      <th>count</th>\n",
       "      <td>1.252000e+03</td>\n",
       "      <td>1.252000e+03</td>\n",
       "      <td>1252.000000</td>\n",
       "      <td>1252.000000</td>\n",
       "    </tr>\n",
       "    <tr>\n",
       "      <th>mean</th>\n",
       "      <td>8.034659e+07</td>\n",
       "      <td>8.079958e+07</td>\n",
       "      <td>1.462460</td>\n",
       "      <td>1.626997</td>\n",
       "    </tr>\n",
       "    <tr>\n",
       "      <th>std</th>\n",
       "      <td>5.690871e+07</td>\n",
       "      <td>5.690395e+07</td>\n",
       "      <td>1.027688</td>\n",
       "      <td>1.811414</td>\n",
       "    </tr>\n",
       "    <tr>\n",
       "      <th>min</th>\n",
       "      <td>3.098850e+05</td>\n",
       "      <td>4.548850e+05</td>\n",
       "      <td>1.000000</td>\n",
       "      <td>0.000000</td>\n",
       "    </tr>\n",
       "    <tr>\n",
       "      <th>25%</th>\n",
       "      <td>3.389664e+07</td>\n",
       "      <td>3.423829e+07</td>\n",
       "      <td>1.000000</td>\n",
       "      <td>0.000000</td>\n",
       "    </tr>\n",
       "    <tr>\n",
       "      <th>50%</th>\n",
       "      <td>6.869616e+07</td>\n",
       "      <td>6.922793e+07</td>\n",
       "      <td>1.000000</td>\n",
       "      <td>1.000000</td>\n",
       "    </tr>\n",
       "    <tr>\n",
       "      <th>75%</th>\n",
       "      <td>1.186943e+08</td>\n",
       "      <td>1.190188e+08</td>\n",
       "      <td>2.000000</td>\n",
       "      <td>2.000000</td>\n",
       "    </tr>\n",
       "    <tr>\n",
       "      <th>max</th>\n",
       "      <td>2.469667e+08</td>\n",
       "      <td>2.474967e+08</td>\n",
       "      <td>9.000000</td>\n",
       "      <td>12.000000</td>\n",
       "    </tr>\n",
       "  </tbody>\n",
       "</table>\n",
       "</div>"
      ],
      "text/plain": [
       "              start          stop    HAR_count  variant_count\n",
       "count  1.252000e+03  1.252000e+03  1252.000000    1252.000000\n",
       "mean   8.034659e+07  8.079958e+07     1.462460       1.626997\n",
       "std    5.690871e+07  5.690395e+07     1.027688       1.811414\n",
       "min    3.098850e+05  4.548850e+05     1.000000       0.000000\n",
       "25%    3.389664e+07  3.423829e+07     1.000000       0.000000\n",
       "50%    6.869616e+07  6.922793e+07     1.000000       1.000000\n",
       "75%    1.186943e+08  1.190188e+08     2.000000       2.000000\n",
       "max    2.469667e+08  2.474967e+08     9.000000      12.000000"
      ]
     },
     "execution_count": 64,
     "metadata": {},
     "output_type": "execute_result"
    }
   ],
   "source": [
    "variants_per_TAD_controls.query('HAR_count != \"0\"').describe()"
   ]
  },
  {
   "cell_type": "markdown",
   "metadata": {},
   "source": [
    "The distributions look pretty similar. \n",
    "\n",
    "## Kathleen's method for violinplot - start"
   ]
  },
  {
   "cell_type": "raw",
   "metadata": {},
   "source": [
    "SWARMPLOT FOR CASE.INTERSECT(TAD)"
   ]
  },
  {
   "cell_type": "markdown",
   "metadata": {},
   "source": [
    "now off to make a swarmplot w/ the number of indels in each HAR"
   ]
  },
  {
   "cell_type": "code",
   "execution_count": 16,
   "metadata": {
    "collapsed": true
   },
   "outputs": [],
   "source": [
    "x = variantsBED.intersect(w_HAR,c=True)\n",
    "y = variantsBED.intersect(wOUT_HAR,c=True)"
   ]
  },
  {
   "cell_type": "code",
   "execution_count": 17,
   "metadata": {},
   "outputs": [
    {
     "data": {
      "text/plain": [
       "9249"
      ]
     },
     "execution_count": 17,
     "metadata": {},
     "output_type": "execute_result"
    }
   ],
   "source": [
    "len(TADs)"
   ]
  },
  {
   "cell_type": "code",
   "execution_count": 18,
   "metadata": {
    "scrolled": true
   },
   "outputs": [
    {
     "name": "stderr",
     "output_type": "stream",
     "text": [
      "/Users/eeckenrod/miniconda3/lib/python3.7/site-packages/ipykernel_launcher.py:1: FutureWarning: read_table is deprecated, use read_csv instead, passing sep='\\t'.\n",
      "  \"\"\"Entry point for launching an IPython kernel.\n",
      "/Users/eeckenrod/miniconda3/lib/python3.7/site-packages/ipykernel_launcher.py:2: FutureWarning: read_table is deprecated, use read_csv instead, passing sep='\\t'.\n",
      "  \n"
     ]
    }
   ],
   "source": [
    "x = pd.read_table(x.fn,names = [\"chrom\",\"start\",\"stop\",\"status\",\"count\"])\n",
    "y = pd.read_table(y.fn,names = [\"chrom\",\"start\",\"stop\",\"status\",\"count\"])"
   ]
  },
  {
   "cell_type": "code",
   "execution_count": null,
   "metadata": {
    "collapsed": true
   },
   "outputs": [],
   "source": []
  },
  {
   "cell_type": "code",
   "execution_count": 19,
   "metadata": {},
   "outputs": [
    {
     "name": "stdout",
     "output_type": "stream",
     "text": [
      "1811\n",
      "1705\n"
     ]
    }
   ],
   "source": [
    "case_yes = []\n",
    "control_yes = []\n",
    "for index, row in x.iterrows():\n",
    "    if row[\"status\"] == \"case\" and row[\"count\"] != 0:\n",
    "        case_yes.append(row[\"count\"])\n",
    "    elif row[\"status\"] == \"control\" and row[\"count\"] != 0:\n",
    "        control_yes.append(row[\"count\"])\n",
    "print(len(case_yes))\n",
    "print(len(control_yes))"
   ]
  },
  {
   "cell_type": "code",
   "execution_count": 20,
   "metadata": {},
   "outputs": [
    {
     "name": "stdout",
     "output_type": "stream",
     "text": [
      "4939\n",
      "4909\n"
     ]
    }
   ],
   "source": [
    "case_no = []\n",
    "control_no = []\n",
    "for index, row in y.iterrows():\n",
    "    if row[\"status\"] == \"case\" and row[\"count\"] != 0:\n",
    "        case_no.append(row[\"count\"])\n",
    "    elif row[\"status\"] == \"control\" and row[\"count\"] != 0:\n",
    "        control_no.append(row[\"count\"])\n",
    "print(len(case_no))\n",
    "print(len(control_no))"
   ]
  },
  {
   "cell_type": "code",
   "execution_count": 23,
   "metadata": {},
   "outputs": [
    {
     "name": "stdout",
     "output_type": "stream",
     "text": [
      "3516\n",
      "9848\n"
     ]
    }
   ],
   "source": [
    "yes = case_yes + control_yes\n",
    "no = case_no + control_no\n",
    "alll = yes + no \n",
    "print(len(yes))\n",
    "print(len(no))"
   ]
  },
  {
   "cell_type": "code",
   "execution_count": 25,
   "metadata": {
    "collapsed": true
   },
   "outputs": [],
   "source": [
    "df = pd.DataFrame({\"TAD\":alll})"
   ]
  },
  {
   "cell_type": "code",
   "execution_count": 26,
   "metadata": {
    "collapsed": true
   },
   "outputs": [],
   "source": [
    "df[\"HAR?\"] = [\"Has HAR\"]*3516 + [\"No HAR\"]*9848"
   ]
  },
  {
   "cell_type": "code",
   "execution_count": 28,
   "metadata": {
    "collapsed": true
   },
   "outputs": [],
   "source": [
    "df[\"Status\"] = [\"Case\"]*1811 + [\"Control\"]*1705 + [\"Case\"]*4939 + [\"Control\"]*4909"
   ]
  },
  {
   "cell_type": "code",
   "execution_count": 29,
   "metadata": {},
   "outputs": [
    {
     "data": {
      "text/html": [
       "<div>\n",
       "<style scoped>\n",
       "    .dataframe tbody tr th:only-of-type {\n",
       "        vertical-align: middle;\n",
       "    }\n",
       "\n",
       "    .dataframe tbody tr th {\n",
       "        vertical-align: top;\n",
       "    }\n",
       "\n",
       "    .dataframe thead th {\n",
       "        text-align: right;\n",
       "    }\n",
       "</style>\n",
       "<table border=\"1\" class=\"dataframe\">\n",
       "  <thead>\n",
       "    <tr style=\"text-align: right;\">\n",
       "      <th></th>\n",
       "      <th>TAD</th>\n",
       "      <th>HAR?</th>\n",
       "      <th>Status</th>\n",
       "    </tr>\n",
       "  </thead>\n",
       "  <tbody>\n",
       "    <tr>\n",
       "      <th>0</th>\n",
       "      <td>1</td>\n",
       "      <td>Has HAR</td>\n",
       "      <td>Case</td>\n",
       "    </tr>\n",
       "    <tr>\n",
       "      <th>1</th>\n",
       "      <td>1</td>\n",
       "      <td>Has HAR</td>\n",
       "      <td>Case</td>\n",
       "    </tr>\n",
       "    <tr>\n",
       "      <th>2</th>\n",
       "      <td>1</td>\n",
       "      <td>Has HAR</td>\n",
       "      <td>Case</td>\n",
       "    </tr>\n",
       "    <tr>\n",
       "      <th>3</th>\n",
       "      <td>1</td>\n",
       "      <td>Has HAR</td>\n",
       "      <td>Case</td>\n",
       "    </tr>\n",
       "    <tr>\n",
       "      <th>4</th>\n",
       "      <td>1</td>\n",
       "      <td>Has HAR</td>\n",
       "      <td>Case</td>\n",
       "    </tr>\n",
       "    <tr>\n",
       "      <th>5</th>\n",
       "      <td>1</td>\n",
       "      <td>Has HAR</td>\n",
       "      <td>Case</td>\n",
       "    </tr>\n",
       "    <tr>\n",
       "      <th>6</th>\n",
       "      <td>1</td>\n",
       "      <td>Has HAR</td>\n",
       "      <td>Case</td>\n",
       "    </tr>\n",
       "    <tr>\n",
       "      <th>7</th>\n",
       "      <td>1</td>\n",
       "      <td>Has HAR</td>\n",
       "      <td>Case</td>\n",
       "    </tr>\n",
       "    <tr>\n",
       "      <th>8</th>\n",
       "      <td>1</td>\n",
       "      <td>Has HAR</td>\n",
       "      <td>Case</td>\n",
       "    </tr>\n",
       "    <tr>\n",
       "      <th>9</th>\n",
       "      <td>2</td>\n",
       "      <td>Has HAR</td>\n",
       "      <td>Case</td>\n",
       "    </tr>\n",
       "    <tr>\n",
       "      <th>10</th>\n",
       "      <td>2</td>\n",
       "      <td>Has HAR</td>\n",
       "      <td>Case</td>\n",
       "    </tr>\n",
       "    <tr>\n",
       "      <th>11</th>\n",
       "      <td>2</td>\n",
       "      <td>Has HAR</td>\n",
       "      <td>Case</td>\n",
       "    </tr>\n",
       "    <tr>\n",
       "      <th>12</th>\n",
       "      <td>2</td>\n",
       "      <td>Has HAR</td>\n",
       "      <td>Case</td>\n",
       "    </tr>\n",
       "    <tr>\n",
       "      <th>13</th>\n",
       "      <td>2</td>\n",
       "      <td>Has HAR</td>\n",
       "      <td>Case</td>\n",
       "    </tr>\n",
       "    <tr>\n",
       "      <th>14</th>\n",
       "      <td>1</td>\n",
       "      <td>Has HAR</td>\n",
       "      <td>Case</td>\n",
       "    </tr>\n",
       "    <tr>\n",
       "      <th>15</th>\n",
       "      <td>1</td>\n",
       "      <td>Has HAR</td>\n",
       "      <td>Case</td>\n",
       "    </tr>\n",
       "    <tr>\n",
       "      <th>16</th>\n",
       "      <td>1</td>\n",
       "      <td>Has HAR</td>\n",
       "      <td>Case</td>\n",
       "    </tr>\n",
       "    <tr>\n",
       "      <th>17</th>\n",
       "      <td>1</td>\n",
       "      <td>Has HAR</td>\n",
       "      <td>Case</td>\n",
       "    </tr>\n",
       "    <tr>\n",
       "      <th>18</th>\n",
       "      <td>1</td>\n",
       "      <td>Has HAR</td>\n",
       "      <td>Case</td>\n",
       "    </tr>\n",
       "    <tr>\n",
       "      <th>19</th>\n",
       "      <td>1</td>\n",
       "      <td>Has HAR</td>\n",
       "      <td>Case</td>\n",
       "    </tr>\n",
       "    <tr>\n",
       "      <th>20</th>\n",
       "      <td>1</td>\n",
       "      <td>Has HAR</td>\n",
       "      <td>Case</td>\n",
       "    </tr>\n",
       "    <tr>\n",
       "      <th>21</th>\n",
       "      <td>1</td>\n",
       "      <td>Has HAR</td>\n",
       "      <td>Case</td>\n",
       "    </tr>\n",
       "    <tr>\n",
       "      <th>22</th>\n",
       "      <td>2</td>\n",
       "      <td>Has HAR</td>\n",
       "      <td>Case</td>\n",
       "    </tr>\n",
       "    <tr>\n",
       "      <th>23</th>\n",
       "      <td>2</td>\n",
       "      <td>Has HAR</td>\n",
       "      <td>Case</td>\n",
       "    </tr>\n",
       "    <tr>\n",
       "      <th>24</th>\n",
       "      <td>1</td>\n",
       "      <td>Has HAR</td>\n",
       "      <td>Case</td>\n",
       "    </tr>\n",
       "    <tr>\n",
       "      <th>25</th>\n",
       "      <td>1</td>\n",
       "      <td>Has HAR</td>\n",
       "      <td>Case</td>\n",
       "    </tr>\n",
       "    <tr>\n",
       "      <th>26</th>\n",
       "      <td>1</td>\n",
       "      <td>Has HAR</td>\n",
       "      <td>Case</td>\n",
       "    </tr>\n",
       "    <tr>\n",
       "      <th>27</th>\n",
       "      <td>1</td>\n",
       "      <td>Has HAR</td>\n",
       "      <td>Case</td>\n",
       "    </tr>\n",
       "    <tr>\n",
       "      <th>28</th>\n",
       "      <td>2</td>\n",
       "      <td>Has HAR</td>\n",
       "      <td>Case</td>\n",
       "    </tr>\n",
       "    <tr>\n",
       "      <th>29</th>\n",
       "      <td>2</td>\n",
       "      <td>Has HAR</td>\n",
       "      <td>Case</td>\n",
       "    </tr>\n",
       "    <tr>\n",
       "      <th>...</th>\n",
       "      <td>...</td>\n",
       "      <td>...</td>\n",
       "      <td>...</td>\n",
       "    </tr>\n",
       "    <tr>\n",
       "      <th>13334</th>\n",
       "      <td>2</td>\n",
       "      <td>No HAR</td>\n",
       "      <td>Control</td>\n",
       "    </tr>\n",
       "    <tr>\n",
       "      <th>13335</th>\n",
       "      <td>2</td>\n",
       "      <td>No HAR</td>\n",
       "      <td>Control</td>\n",
       "    </tr>\n",
       "    <tr>\n",
       "      <th>13336</th>\n",
       "      <td>1</td>\n",
       "      <td>No HAR</td>\n",
       "      <td>Control</td>\n",
       "    </tr>\n",
       "    <tr>\n",
       "      <th>13337</th>\n",
       "      <td>2</td>\n",
       "      <td>No HAR</td>\n",
       "      <td>Control</td>\n",
       "    </tr>\n",
       "    <tr>\n",
       "      <th>13338</th>\n",
       "      <td>2</td>\n",
       "      <td>No HAR</td>\n",
       "      <td>Control</td>\n",
       "    </tr>\n",
       "    <tr>\n",
       "      <th>13339</th>\n",
       "      <td>1</td>\n",
       "      <td>No HAR</td>\n",
       "      <td>Control</td>\n",
       "    </tr>\n",
       "    <tr>\n",
       "      <th>13340</th>\n",
       "      <td>2</td>\n",
       "      <td>No HAR</td>\n",
       "      <td>Control</td>\n",
       "    </tr>\n",
       "    <tr>\n",
       "      <th>13341</th>\n",
       "      <td>2</td>\n",
       "      <td>No HAR</td>\n",
       "      <td>Control</td>\n",
       "    </tr>\n",
       "    <tr>\n",
       "      <th>13342</th>\n",
       "      <td>1</td>\n",
       "      <td>No HAR</td>\n",
       "      <td>Control</td>\n",
       "    </tr>\n",
       "    <tr>\n",
       "      <th>13343</th>\n",
       "      <td>1</td>\n",
       "      <td>No HAR</td>\n",
       "      <td>Control</td>\n",
       "    </tr>\n",
       "    <tr>\n",
       "      <th>13344</th>\n",
       "      <td>2</td>\n",
       "      <td>No HAR</td>\n",
       "      <td>Control</td>\n",
       "    </tr>\n",
       "    <tr>\n",
       "      <th>13345</th>\n",
       "      <td>2</td>\n",
       "      <td>No HAR</td>\n",
       "      <td>Control</td>\n",
       "    </tr>\n",
       "    <tr>\n",
       "      <th>13346</th>\n",
       "      <td>2</td>\n",
       "      <td>No HAR</td>\n",
       "      <td>Control</td>\n",
       "    </tr>\n",
       "    <tr>\n",
       "      <th>13347</th>\n",
       "      <td>2</td>\n",
       "      <td>No HAR</td>\n",
       "      <td>Control</td>\n",
       "    </tr>\n",
       "    <tr>\n",
       "      <th>13348</th>\n",
       "      <td>1</td>\n",
       "      <td>No HAR</td>\n",
       "      <td>Control</td>\n",
       "    </tr>\n",
       "    <tr>\n",
       "      <th>13349</th>\n",
       "      <td>2</td>\n",
       "      <td>No HAR</td>\n",
       "      <td>Control</td>\n",
       "    </tr>\n",
       "    <tr>\n",
       "      <th>13350</th>\n",
       "      <td>1</td>\n",
       "      <td>No HAR</td>\n",
       "      <td>Control</td>\n",
       "    </tr>\n",
       "    <tr>\n",
       "      <th>13351</th>\n",
       "      <td>2</td>\n",
       "      <td>No HAR</td>\n",
       "      <td>Control</td>\n",
       "    </tr>\n",
       "    <tr>\n",
       "      <th>13352</th>\n",
       "      <td>2</td>\n",
       "      <td>No HAR</td>\n",
       "      <td>Control</td>\n",
       "    </tr>\n",
       "    <tr>\n",
       "      <th>13353</th>\n",
       "      <td>1</td>\n",
       "      <td>No HAR</td>\n",
       "      <td>Control</td>\n",
       "    </tr>\n",
       "    <tr>\n",
       "      <th>13354</th>\n",
       "      <td>1</td>\n",
       "      <td>No HAR</td>\n",
       "      <td>Control</td>\n",
       "    </tr>\n",
       "    <tr>\n",
       "      <th>13355</th>\n",
       "      <td>2</td>\n",
       "      <td>No HAR</td>\n",
       "      <td>Control</td>\n",
       "    </tr>\n",
       "    <tr>\n",
       "      <th>13356</th>\n",
       "      <td>1</td>\n",
       "      <td>No HAR</td>\n",
       "      <td>Control</td>\n",
       "    </tr>\n",
       "    <tr>\n",
       "      <th>13357</th>\n",
       "      <td>2</td>\n",
       "      <td>No HAR</td>\n",
       "      <td>Control</td>\n",
       "    </tr>\n",
       "    <tr>\n",
       "      <th>13358</th>\n",
       "      <td>2</td>\n",
       "      <td>No HAR</td>\n",
       "      <td>Control</td>\n",
       "    </tr>\n",
       "    <tr>\n",
       "      <th>13359</th>\n",
       "      <td>2</td>\n",
       "      <td>No HAR</td>\n",
       "      <td>Control</td>\n",
       "    </tr>\n",
       "    <tr>\n",
       "      <th>13360</th>\n",
       "      <td>1</td>\n",
       "      <td>No HAR</td>\n",
       "      <td>Control</td>\n",
       "    </tr>\n",
       "    <tr>\n",
       "      <th>13361</th>\n",
       "      <td>1</td>\n",
       "      <td>No HAR</td>\n",
       "      <td>Control</td>\n",
       "    </tr>\n",
       "    <tr>\n",
       "      <th>13362</th>\n",
       "      <td>1</td>\n",
       "      <td>No HAR</td>\n",
       "      <td>Control</td>\n",
       "    </tr>\n",
       "    <tr>\n",
       "      <th>13363</th>\n",
       "      <td>2</td>\n",
       "      <td>No HAR</td>\n",
       "      <td>Control</td>\n",
       "    </tr>\n",
       "  </tbody>\n",
       "</table>\n",
       "<p>13364 rows × 3 columns</p>\n",
       "</div>"
      ],
      "text/plain": [
       "       TAD     HAR?   Status\n",
       "0        1  Has HAR     Case\n",
       "1        1  Has HAR     Case\n",
       "2        1  Has HAR     Case\n",
       "3        1  Has HAR     Case\n",
       "4        1  Has HAR     Case\n",
       "5        1  Has HAR     Case\n",
       "6        1  Has HAR     Case\n",
       "7        1  Has HAR     Case\n",
       "8        1  Has HAR     Case\n",
       "9        2  Has HAR     Case\n",
       "10       2  Has HAR     Case\n",
       "11       2  Has HAR     Case\n",
       "12       2  Has HAR     Case\n",
       "13       2  Has HAR     Case\n",
       "14       1  Has HAR     Case\n",
       "15       1  Has HAR     Case\n",
       "16       1  Has HAR     Case\n",
       "17       1  Has HAR     Case\n",
       "18       1  Has HAR     Case\n",
       "19       1  Has HAR     Case\n",
       "20       1  Has HAR     Case\n",
       "21       1  Has HAR     Case\n",
       "22       2  Has HAR     Case\n",
       "23       2  Has HAR     Case\n",
       "24       1  Has HAR     Case\n",
       "25       1  Has HAR     Case\n",
       "26       1  Has HAR     Case\n",
       "27       1  Has HAR     Case\n",
       "28       2  Has HAR     Case\n",
       "29       2  Has HAR     Case\n",
       "...    ...      ...      ...\n",
       "13334    2   No HAR  Control\n",
       "13335    2   No HAR  Control\n",
       "13336    1   No HAR  Control\n",
       "13337    2   No HAR  Control\n",
       "13338    2   No HAR  Control\n",
       "13339    1   No HAR  Control\n",
       "13340    2   No HAR  Control\n",
       "13341    2   No HAR  Control\n",
       "13342    1   No HAR  Control\n",
       "13343    1   No HAR  Control\n",
       "13344    2   No HAR  Control\n",
       "13345    2   No HAR  Control\n",
       "13346    2   No HAR  Control\n",
       "13347    2   No HAR  Control\n",
       "13348    1   No HAR  Control\n",
       "13349    2   No HAR  Control\n",
       "13350    1   No HAR  Control\n",
       "13351    2   No HAR  Control\n",
       "13352    2   No HAR  Control\n",
       "13353    1   No HAR  Control\n",
       "13354    1   No HAR  Control\n",
       "13355    2   No HAR  Control\n",
       "13356    1   No HAR  Control\n",
       "13357    2   No HAR  Control\n",
       "13358    2   No HAR  Control\n",
       "13359    2   No HAR  Control\n",
       "13360    1   No HAR  Control\n",
       "13361    1   No HAR  Control\n",
       "13362    1   No HAR  Control\n",
       "13363    2   No HAR  Control\n",
       "\n",
       "[13364 rows x 3 columns]"
      ]
     },
     "execution_count": 29,
     "metadata": {},
     "output_type": "execute_result"
    }
   ],
   "source": [
    "df"
   ]
  },
  {
   "cell_type": "code",
   "execution_count": null,
   "metadata": {
    "collapsed": true
   },
   "outputs": [],
   "source": [
    "sns.swarmplot(y='TAD', x='HAR?',\n",
    "             hue='Status',data=df)"
   ]
  },
  {
   "cell_type": "code",
   "execution_count": null,
   "metadata": {
    "collapsed": true
   },
   "outputs": [],
   "source": []
  }
 ],
 "metadata": {
  "kernelspec": {
   "display_name": "Python 3",
   "language": "python",
   "name": "python3"
  },
  "language_info": {
   "codemirror_mode": {
    "name": "ipython",
    "version": 3
   },
   "file_extension": ".py",
   "mimetype": "text/x-python",
   "name": "python",
   "nbconvert_exporter": "python",
   "pygments_lexer": "ipython3",
   "version": "3.6.7"
  }
 },
 "nbformat": 4,
 "nbformat_minor": 2
}
